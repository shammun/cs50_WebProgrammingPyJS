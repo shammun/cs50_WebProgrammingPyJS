{
 "cells": [
  {
   "cell_type": "markdown",
   "metadata": {},
   "source": [
    "### Install Django"
   ]
  },
  {
   "cell_type": "markdown",
   "metadata": {},
   "source": [
    "> pip install django"
   ]
  },
  {
   "cell_type": "markdown",
   "metadata": {},
   "source": [
    "### Starting a django project"
   ]
  },
  {
   "cell_type": "markdown",
   "metadata": {},
   "source": [
    "![](wppj_324.png)"
   ]
  },
  {
   "cell_type": "markdown",
   "metadata": {},
   "source": [
    "Start a new project **mysite**."
   ]
  },
  {
   "cell_type": "markdown",
   "metadata": {},
   "source": [
    "> django-admin startproject mysite"
   ]
  },
  {
   "cell_type": "markdown",
   "metadata": {},
   "source": [
    "![](wppj_325.png)"
   ]
  },
  {
   "cell_type": "markdown",
   "metadata": {},
   "source": [
    "![](wppj_326.png)"
   ]
  },
  {
   "cell_type": "markdown",
   "metadata": {},
   "source": [
    "![](wppj_327.png)"
   ]
  },
  {
   "cell_type": "markdown",
   "metadata": {},
   "source": [
    "**urls.py** take care of the routes."
   ]
  },
  {
   "cell_type": "markdown",
   "metadata": {},
   "source": [
    "**wsgi.py** is useful for hosting django application online."
   ]
  },
  {
   "cell_type": "markdown",
   "metadata": {},
   "source": [
    "### Create an app"
   ]
  },
  {
   "cell_type": "markdown",
   "metadata": {},
   "source": [
    "Go inside the **mysite** directory."
   ]
  },
  {
   "cell_type": "markdown",
   "metadata": {},
   "source": [
    "To create an app called **hello**, write the following:"
   ]
  },
  {
   "cell_type": "markdown",
   "metadata": {},
   "source": [
    "> python manage.py startapp hello"
   ]
  },
  {
   "cell_type": "markdown",
   "metadata": {},
   "source": [
    "Inside the **hello** folder, **views.py** is similar to appication.py in Flask"
   ]
  },
  {
   "cell_type": "markdown",
   "metadata": {},
   "source": [
    "It will decide what the user sees when they go to a particular route."
   ]
  },
  {
   "cell_type": "markdown",
   "metadata": {},
   "source": [
    "Initially, **views.py** looks like this."
   ]
  },
  {
   "cell_type": "markdown",
   "metadata": {},
   "source": [
    "![](wppj_328.png)"
   ]
  },
  {
   "cell_type": "markdown",
   "metadata": {},
   "source": [
    "Now, make some changes to **views.py**"
   ]
  },
  {
   "cell_type": "markdown",
   "metadata": {},
   "source": [
    "![](wppj_329.png)"
   ]
  },
  {
   "cell_type": "markdown",
   "metadata": {},
   "source": [
    "Inside the application folder (for example, **hello** folder, in this case), create another **urls.py**"
   ]
  },
  {
   "cell_type": "markdown",
   "metadata": {},
   "source": [
    "![](wppj_330.png)"
   ]
  },
  {
   "cell_type": "markdown",
   "metadata": {},
   "source": [
    "The **urls.py** inside **mysite** or project folder initially looks like this:"
   ]
  },
  {
   "cell_type": "markdown",
   "metadata": {},
   "source": [
    "![](wppj_332.png)"
   ]
  },
  {
   "cell_type": "markdown",
   "metadata": {},
   "source": [
    "Now, we need to link pink project's (mysite) URL file to the application's URL file. So we make the following changes in the **urls.py** inside the **mysite** or project folder."
   ]
  },
  {
   "cell_type": "markdown",
   "metadata": {},
   "source": [
    "![](wppj_333.png)"
   ]
  },
  {
   "cell_type": "markdown",
   "metadata": {},
   "source": [
    "Now, to run the application, go to **mysite** folder and run the following command."
   ]
  },
  {
   "cell_type": "markdown",
   "metadata": {},
   "source": [
    "> python manage.py runserver"
   ]
  },
  {
   "cell_type": "markdown",
   "metadata": {},
   "source": [
    "![](wppj_334.png)"
   ]
  },
  {
   "cell_type": "markdown",
   "metadata": {},
   "source": [
    "![](wppj_335.png)"
   ]
  },
  {
   "cell_type": "markdown",
   "metadata": {},
   "source": [
    "### Start a new project"
   ]
  },
  {
   "cell_type": "markdown",
   "metadata": {},
   "source": [
    "> django-admin startproject airline"
   ]
  },
  {
   "cell_type": "markdown",
   "metadata": {},
   "source": [
    "Now go inside the ndew folder **airline**."
   ]
  },
  {
   "cell_type": "markdown",
   "metadata": {},
   "source": [
    "Now, create an app **flights** within it."
   ]
  },
  {
   "cell_type": "markdown",
   "metadata": {},
   "source": [
    "> python manage.py startapp flights"
   ]
  },
  {
   "cell_type": "markdown",
   "metadata": {},
   "source": [
    "Now, create a new file **urls.py** inside **flights** folder."
   ]
  },
  {
   "cell_type": "markdown",
   "metadata": {},
   "source": [
    "![](wppj_336.png)"
   ]
  },
  {
   "cell_type": "markdown",
   "metadata": {},
   "source": [
    "Now, inside the **views.py** file in the **flights** folder, make the following chnages."
   ]
  },
  {
   "cell_type": "markdown",
   "metadata": {},
   "source": [
    "![](wppj_337.png)"
   ]
  },
  {
   "cell_type": "markdown",
   "metadata": {},
   "source": [
    "Now, go inside the **airlines** folder inside the **airlines** folder and edit the **urls.py** file."
   ]
  },
  {
   "cell_type": "markdown",
   "metadata": {},
   "source": [
    "![](wppj_338.png)"
   ]
  },
  {
   "cell_type": "markdown",
   "metadata": {},
   "source": [
    "![](wppj_339.png)"
   ]
  },
  {
   "cell_type": "markdown",
   "metadata": {},
   "source": [
    "![](wppj_340.png)"
   ]
  },
  {
   "cell_type": "markdown",
   "metadata": {},
   "source": [
    "### Define tables for database using models.py inside the application (here, flights) folder"
   ]
  },
  {
   "cell_type": "markdown",
   "metadata": {},
   "source": [
    "This file initially looks like this:"
   ]
  },
  {
   "cell_type": "markdown",
   "metadata": {},
   "source": [
    "![](wppj_341.png)"
   ]
  },
  {
   "cell_type": "markdown",
   "metadata": {},
   "source": [
    "### Migration -- anytime we make any changes in the models.py changing database or changing tables, Django will automatically generate SQL code to allow these changes"
   ]
  },
  {
   "cell_type": "markdown",
   "metadata": {},
   "source": [
    "![](wppj_342.png)"
   ]
  },
  {
   "cell_type": "markdown",
   "metadata": {},
   "source": [
    "We need to make sure that the Django project knows about these models."
   ]
  },
  {
   "cell_type": "markdown",
   "metadata": {},
   "source": [
    "In the **airline** folder inside the **airline** folder, edit the **settings.py** file and add the line **'flights.apps.FlightsConfig',** inside the variable **INSTALLED_APPS** variable."
   ]
  },
  {
   "cell_type": "markdown",
   "metadata": {},
   "source": [
    "![](wppj_343.png)"
   ]
  },
  {
   "cell_type": "markdown",
   "metadata": {},
   "source": [
    "Now, create a python file or migrattion for the table."
   ]
  },
  {
   "cell_type": "markdown",
   "metadata": {},
   "source": [
    "> python manage.py makemigrations"
   ]
  },
  {
   "cell_type": "markdown",
   "metadata": {},
   "source": [
    "![](wppj_345.png)"
   ]
  },
  {
   "cell_type": "markdown",
   "metadata": {},
   "source": [
    "Now, a python file **0001_initial.py** is created under flights\\migrations folder."
   ]
  },
  {
   "cell_type": "markdown",
   "metadata": {},
   "source": [
    "![](wppj_346.png)"
   ]
  },
  {
   "cell_type": "markdown",
   "metadata": {},
   "source": [
    "If we want to have a look at the SQL command associated with 0001 migration."
   ]
  },
  {
   "cell_type": "markdown",
   "metadata": {},
   "source": [
    "> python manage.py sqlmigrate flights 0001"
   ]
  },
  {
   "cell_type": "markdown",
   "metadata": {},
   "source": [
    "![](wppj_347.png)"
   ]
  },
  {
   "cell_type": "markdown",
   "metadata": {},
   "source": [
    "Now, to actually create the table, type"
   ]
  },
  {
   "cell_type": "markdown",
   "metadata": {},
   "source": [
    "> python manage.py migrate"
   ]
  },
  {
   "cell_type": "markdown",
   "metadata": {},
   "source": [
    "![](wppj_348.png)"
   ]
  },
  {
   "cell_type": "markdown",
   "metadata": {},
   "source": [
    "If we want to change the database or use POSTGRESQL, change these inside the **settings.py** file and use the similar settings of port, username and password as we have done before for POSTGRESQL."
   ]
  },
  {
   "cell_type": "markdown",
   "metadata": {},
   "source": [
    "![](wppj_349.png)"
   ]
  },
  {
   "cell_type": "markdown",
   "metadata": {},
   "source": [
    "![](wppj_349_3.png)"
   ]
  },
  {
   "cell_type": "markdown",
   "metadata": {},
   "source": [
    "The location of the **db.sqlite3** database (automatically generated) is:"
   ]
  },
  {
   "cell_type": "markdown",
   "metadata": {},
   "source": [
    "![](wppj_350.png)"
   ]
  },
  {
   "cell_type": "markdown",
   "metadata": {},
   "source": [
    "### Populate the database table with data."
   ]
  },
  {
   "cell_type": "markdown",
   "metadata": {},
   "source": [
    "### Open a shell that allows to directly modify the database. It allows to run python codes inside."
   ]
  },
  {
   "cell_type": "markdown",
   "metadata": {},
   "source": [
    "> python manage.py shell"
   ]
  },
  {
   "cell_type": "markdown",
   "metadata": {},
   "source": [
    "![](wppj_350_2.png)"
   ]
  },
  {
   "cell_type": "markdown",
   "metadata": {},
   "source": [
    "Now, populate the database with some data."
   ]
  },
  {
   "cell_type": "markdown",
   "metadata": {},
   "source": [
    "> from flights.models import Flights"
   ]
  },
  {
   "cell_type": "markdown",
   "metadata": {},
   "source": [
    "> f = Flights(origin=\"New York\", destination=\"London\", duration=415)"
   ]
  },
  {
   "cell_type": "markdown",
   "metadata": {},
   "source": [
    "> f.save()"
   ]
  },
  {
   "cell_type": "markdown",
   "metadata": {},
   "source": [
    "![](wppj_352.png)"
   ]
  },
  {
   "cell_type": "markdown",
   "metadata": {},
   "source": [
    "### Query for all the flights"
   ]
  },
  {
   "cell_type": "markdown",
   "metadata": {},
   "source": [
    "> Flights.objects.all()"
   ]
  },
  {
   "cell_type": "markdown",
   "metadata": {},
   "source": [
    "![](wppj_353.png)"
   ]
  },
  {
   "cell_type": "markdown",
   "metadata": {},
   "source": [
    "This representation is not really helpful. So, we will modify the **models.py** file inside the **flights** folder."
   ]
  },
  {
   "cell_type": "markdown",
   "metadata": {},
   "source": [
    "Add **def__str__(self)**"
   ]
  },
  {
   "cell_type": "markdown",
   "metadata": {},
   "source": [
    "![](wppj_354.png)"
   ]
  },
  {
   "cell_type": "markdown",
   "metadata": {},
   "source": [
    "Now, we see a different representation."
   ]
  },
  {
   "cell_type": "markdown",
   "metadata": {},
   "source": [
    "![](wppj_355.png)"
   ]
  },
  {
   "cell_type": "markdown",
   "metadata": {},
   "source": [
    "### More queries"
   ]
  },
  {
   "cell_type": "markdown",
   "metadata": {},
   "source": [
    "![](wppj_355.png)"
   ]
  },
  {
   "cell_type": "markdown",
   "metadata": {},
   "source": [
    "### Deleting a flight"
   ]
  },
  {
   "cell_type": "markdown",
   "metadata": {},
   "source": [
    "![](wppj_357.png)"
   ]
  },
  {
   "cell_type": "markdown",
   "metadata": {},
   "source": [
    "### Let's add and simplify the tables"
   ]
  },
  {
   "cell_type": "markdown",
   "metadata": {},
   "source": [
    "![](wppj_358_2.png)"
   ]
  },
  {
   "cell_type": "markdown",
   "metadata": {},
   "source": [
    "### Now, apply these changes to database."
   ]
  },
  {
   "cell_type": "markdown",
   "metadata": {},
   "source": [
    "> python manage.py makemigrations"
   ]
  },
  {
   "cell_type": "markdown",
   "metadata": {},
   "source": [
    "![](wppj_359.png)"
   ]
  },
  {
   "cell_type": "markdown",
   "metadata": {},
   "source": [
    "### Apply the migration"
   ]
  },
  {
   "cell_type": "markdown",
   "metadata": {},
   "source": [
    "> python manage.py migrate"
   ]
  },
  {
   "cell_type": "markdown",
   "metadata": {},
   "source": [
    "![](wppj_360.png)"
   ]
  },
  {
   "cell_type": "markdown",
   "metadata": {},
   "source": [
    "Now, start the shell."
   ]
  },
  {
   "cell_type": "markdown",
   "metadata": {},
   "source": [
    "> python manage.py shell"
   ]
  },
  {
   "cell_type": "markdown",
   "metadata": {},
   "source": [
    "![](wppj_361.png)"
   ]
  },
  {
   "cell_type": "markdown",
   "metadata": {},
   "source": [
    "Now, create 2 new airports and flights."
   ]
  },
  {
   "cell_type": "markdown",
   "metadata": {},
   "source": [
    "> from flights.models import Airport, Flights"
   ]
  },
  {
   "cell_type": "markdown",
   "metadata": {},
   "source": [
    "> jfk = Airport(code=\"JFK\", city=\"New York City\")"
   ]
  },
  {
   "cell_type": "markdown",
   "metadata": {},
   "source": [
    "> lhr = Airport(code=\"LHR\", city=\"London\")"
   ]
  },
  {
   "cell_type": "markdown",
   "metadata": {},
   "source": [
    "> jfk.save()"
   ]
  },
  {
   "cell_type": "markdown",
   "metadata": {},
   "source": [
    "> lhr.save()"
   ]
  },
  {
   "cell_type": "markdown",
   "metadata": {},
   "source": [
    "![](wppj_362.png)"
   ]
  },
  {
   "cell_type": "markdown",
   "metadata": {},
   "source": [
    "### Create new flights"
   ]
  },
  {
   "cell_type": "markdown",
   "metadata": {},
   "source": [
    "> f = Flights(origin=jfk, destination=lhr, duration=415)"
   ]
  },
  {
   "cell_type": "markdown",
   "metadata": {},
   "source": [
    "> f.save()"
   ]
  },
  {
   "cell_type": "markdown",
   "metadata": {},
   "source": [
    "> f.origin()"
   ]
  },
  {
   "cell_type": "markdown",
   "metadata": {},
   "source": [
    "![](wppj_363.png)"
   ]
  },
  {
   "cell_type": "markdown",
   "metadata": {},
   "source": [
    "![](wppj_364.png)"
   ]
  },
  {
   "cell_type": "markdown",
   "metadata": {},
   "source": [
    "> f.origin.code"
   ]
  },
  {
   "cell_type": "markdown",
   "metadata": {},
   "source": [
    "> f.origin.city"
   ]
  },
  {
   "cell_type": "markdown",
   "metadata": {},
   "source": [
    "![](wppj_365.png)"
   ]
  },
  {
   "cell_type": "markdown",
   "metadata": {},
   "source": [
    "> jfk.departures.all()"
   ]
  },
  {
   "cell_type": "markdown",
   "metadata": {},
   "source": [
    "![](wppj_366.png)"
   ]
  },
  {
   "cell_type": "markdown",
   "metadata": {},
   "source": [
    "Now, make the following changes in the **views.py**"
   ]
  },
  {
   "cell_type": "markdown",
   "metadata": {},
   "source": [
    "![](wppj_367.png)"
   ]
  },
  {
   "cell_type": "markdown",
   "metadata": {},
   "source": [
    "Now, create a folder **templates**, under which create another folder **flights** and then create the file **index.html**."
   ]
  },
  {
   "cell_type": "markdown",
   "metadata": {},
   "source": [
    "![](wppj_369_2.png)"
   ]
  },
  {
   "cell_type": "markdown",
   "metadata": {},
   "source": [
    "![](wppj_369.png)"
   ]
  },
  {
   "cell_type": "markdown",
   "metadata": {},
   "source": [
    "Now, run the application."
   ]
  },
  {
   "cell_type": "markdown",
   "metadata": {},
   "source": [
    "> python manage.py runserver"
   ]
  },
  {
   "cell_type": "markdown",
   "metadata": {},
   "source": [
    "![](wppj_370.png)"
   ]
  },
  {
   "cell_type": "markdown",
   "metadata": {},
   "source": [
    "![](wppj_371.png)"
   ]
  },
  {
   "cell_type": "markdown",
   "metadata": {},
   "source": [
    "### Passing data using context -- a key, value pair"
   ]
  },
  {
   "cell_type": "markdown",
   "metadata": {},
   "source": [
    "Make changes to **views.py** under **airline/flights** folder."
   ]
  },
  {
   "cell_type": "markdown",
   "metadata": {},
   "source": [
    "Import class related to a table."
   ]
  },
  {
   "cell_type": "markdown",
   "metadata": {},
   "source": [
    "> from .models import Flights"
   ]
  },
  {
   "cell_type": "markdown",
   "metadata": {},
   "source": [
    "Inside the **index()** function, add the following line for **context** to pass **Flights** table data."
   ]
  },
  {
   "cell_type": "markdown",
   "metadata": {},
   "source": [
    "> context = {\n",
    "        \"flights\": Flights.objects.all()\n",
    "    }"
   ]
  },
  {
   "cell_type": "markdown",
   "metadata": {},
   "source": [
    "In **return** statement, include this **context** variable."
   ]
  },
  {
   "cell_type": "markdown",
   "metadata": {},
   "source": [
    "![](wppj_372.png)"
   ]
  },
  {
   "cell_type": "markdown",
   "metadata": {},
   "source": [
    "Now, change the template in the following way:"
   ]
  },
  {
   "cell_type": "markdown",
   "metadata": {},
   "source": [
    "![](wppj_373.png)"
   ]
  },
  {
   "cell_type": "markdown",
   "metadata": {},
   "source": [
    "Now, run it."
   ]
  },
  {
   "cell_type": "markdown",
   "metadata": {},
   "source": [
    "![](wppj_373_2.png)"
   ]
  },
  {
   "cell_type": "markdown",
   "metadata": {},
   "source": [
    "![](wppj_374.png)"
   ]
  },
  {
   "cell_type": "markdown",
   "metadata": {},
   "source": [
    "### Add or edit data"
   ]
  },
  {
   "cell_type": "markdown",
   "metadata": {},
   "source": [
    "### Use admin (admin.py) (inside the application or flights folder)"
   ]
  },
  {
   "cell_type": "markdown",
   "metadata": {},
   "source": [
    "The **admin.py** file initially looks like this."
   ]
  },
  {
   "cell_type": "markdown",
   "metadata": {},
   "source": [
    "![](wppj_375.png)"
   ]
  },
  {
   "cell_type": "markdown",
   "metadata": {},
   "source": [
    "Niw, make the following changes in the **admin.py**. Register the tables in **admin.py**."
   ]
  },
  {
   "cell_type": "markdown",
   "metadata": {},
   "source": [
    "![](wppj_376.png)"
   ]
  },
  {
   "cell_type": "markdown",
   "metadata": {},
   "source": [
    "### Create a superuser"
   ]
  },
  {
   "cell_type": "markdown",
   "metadata": {},
   "source": [
    "> python manage.py createsuperuser"
   ]
  },
  {
   "cell_type": "markdown",
   "metadata": {},
   "source": [
    "![](wppj_377.png)"
   ]
  },
  {
   "cell_type": "markdown",
   "metadata": {},
   "source": [
    "To run the **admin**, first run the server."
   ]
  },
  {
   "cell_type": "markdown",
   "metadata": {},
   "source": [
    "> python manage.py runserver"
   ]
  },
  {
   "cell_type": "markdown",
   "metadata": {},
   "source": [
    "![](wppj_378.png)"
   ]
  },
  {
   "cell_type": "markdown",
   "metadata": {},
   "source": [
    "Now go to this site:"
   ]
  },
  {
   "cell_type": "markdown",
   "metadata": {},
   "source": [
    "> http://127.0.0.1:8000/admin"
   ]
  },
  {
   "cell_type": "markdown",
   "metadata": {},
   "source": [
    "![](wppj_379.png)"
   ]
  },
  {
   "cell_type": "markdown",
   "metadata": {},
   "source": [
    "We will see this now."
   ]
  },
  {
   "cell_type": "markdown",
   "metadata": {},
   "source": [
    "![](wppj_380.png)"
   ]
  },
  {
   "cell_type": "markdown",
   "metadata": {},
   "source": [
    "Provide the username and password we used to create a superuser. Now, we will see an interface similar to this."
   ]
  },
  {
   "cell_type": "markdown",
   "metadata": {},
   "source": [
    "![](wppj_379_2.png)"
   ]
  },
  {
   "cell_type": "markdown",
   "metadata": {},
   "source": [
    "Now, we can also create new airport using **admin**."
   ]
  },
  {
   "cell_type": "markdown",
   "metadata": {},
   "source": [
    "![](wppj_381.png)"
   ]
  },
  {
   "cell_type": "markdown",
   "metadata": {},
   "source": [
    "We can also add **flights**."
   ]
  },
  {
   "cell_type": "markdown",
   "metadata": {},
   "source": [
    "### Add a new URL"
   ]
  },
  {
   "cell_type": "markdown",
   "metadata": {},
   "source": [
    "Edit **url.py** inside **airline** project folder and then inside the **flights** folder."
   ]
  },
  {
   "cell_type": "markdown",
   "metadata": {},
   "source": [
    "![](wppj_382.png)"
   ]
  },
  {
   "cell_type": "markdown",
   "metadata": {},
   "source": [
    "Now, inside the **flights** or application folder, inside the **views.py** file, add a new function **flight** with the argument **flight_id**. **pk** stands for primary key."
   ]
  },
  {
   "cell_type": "markdown",
   "metadata": {},
   "source": [
    "![](wppj_383.png)"
   ]
  },
  {
   "cell_type": "markdown",
   "metadata": {},
   "source": [
    "Now, in this directory **airline/flights/templates/flights/** folder, create a new html file **flight.html**."
   ]
  },
  {
   "cell_type": "markdown",
   "metadata": {},
   "source": [
    "![](wppj_384.png)"
   ]
  },
  {
   "cell_type": "markdown",
   "metadata": {},
   "source": [
    "![](wppj_385.png)"
   ]
  },
  {
   "cell_type": "markdown",
   "metadata": {},
   "source": [
    "Now, we see this."
   ]
  },
  {
   "cell_type": "markdown",
   "metadata": {},
   "source": [
    "![](wppj_386.png)"
   ]
  },
  {
   "cell_type": "markdown",
   "metadata": {},
   "source": [
    "### Linking routes"
   ]
  },
  {
   "cell_type": "markdown",
   "metadata": {},
   "source": [
    "First add name to the routes in the **urls.py** file inside **flights** folder. We will use these names to call these routes. We then will use these names inside **flight.html**."
   ]
  },
  {
   "cell_type": "markdown",
   "metadata": {},
   "source": [
    "![](wppj_387.png)"
   ]
  },
  {
   "cell_type": "markdown",
   "metadata": {},
   "source": [
    "Now, add the **href** in the following way:"
   ]
  },
  {
   "cell_type": "markdown",
   "metadata": {},
   "source": [
    "![](wppj_388.png)"
   ]
  },
  {
   "cell_type": "markdown",
   "metadata": {},
   "source": [
    "![](wppj_389.png)"
   ]
  },
  {
   "cell_type": "markdown",
   "metadata": {},
   "source": [
    "Now, if we click on **Back to full listing**, we will be back to the index page."
   ]
  },
  {
   "cell_type": "markdown",
   "metadata": {},
   "source": [
    "![](wppj_390.png)"
   ]
  },
  {
   "cell_type": "markdown",
   "metadata": {},
   "source": [
    "Similarly, in the **index.html** file, link to flight."
   ]
  },
  {
   "cell_type": "markdown",
   "metadata": {},
   "source": [
    "![](wppj_391.png)"
   ]
  },
  {
   "cell_type": "markdown",
   "metadata": {},
   "source": [
    "![](wppj_392.png)"
   ]
  },
  {
   "cell_type": "markdown",
   "metadata": {},
   "source": [
    "### Template inheritance"
   ]
  },
  {
   "cell_type": "markdown",
   "metadata": {},
   "source": [
    "In the **airline/flights/templates/flights/** folder, create a file **base.html**."
   ]
  },
  {
   "cell_type": "markdown",
   "metadata": {},
   "source": [
    "![](wppj_392_2.png)"
   ]
  },
  {
   "cell_type": "markdown",
   "metadata": {},
   "source": [
    "![](wppj_393.png)"
   ]
  },
  {
   "cell_type": "markdown",
   "metadata": {},
   "source": [
    "Now, use this template **base.html** for **index.html**, **flight.html** and **error.html**. "
   ]
  },
  {
   "cell_type": "markdown",
   "metadata": {},
   "source": [
    "![](wppj_394.png)"
   ]
  },
  {
   "cell_type": "markdown",
   "metadata": {},
   "source": [
    "![](wppj_395.png)"
   ]
  },
  {
   "cell_type": "markdown",
   "metadata": {},
   "source": [
    "![](wppj_395_2.png)"
   ]
  },
  {
   "cell_type": "markdown",
   "metadata": {},
   "source": [
    "![](wppj_396.png)"
   ]
  },
  {
   "cell_type": "markdown",
   "metadata": {},
   "source": [
    "### Allowing multiple flights for a passenger"
   ]
  },
  {
   "cell_type": "markdown",
   "metadata": {},
   "source": [
    "### many-to-many relationship -- one passenger associated with multiple flights and one flight associated with multiple passengers"
   ]
  },
  {
   "cell_type": "markdown",
   "metadata": {},
   "source": [
    "One table for passengers, one table for flights and one inbetween table (one columns for passenger id and one column for flight id) mapping these two."
   ]
  },
  {
   "cell_type": "markdown",
   "metadata": {},
   "source": [
    "Inside **airline/flights** folder, in the **models.py** file, add the following lines to create **Passenger** class."
   ]
  },
  {
   "cell_type": "markdown",
   "metadata": {},
   "source": [
    "![](wppj_397_2.png)"
   ]
  },
  {
   "cell_type": "markdown",
   "metadata": {},
   "source": [
    "Now, make migration."
   ]
  },
  {
   "cell_type": "markdown",
   "metadata": {},
   "source": [
    "> python manage.py makemigration"
   ]
  },
  {
   "cell_type": "markdown",
   "metadata": {},
   "source": [
    "![](wppj_398.png)"
   ]
  },
  {
   "cell_type": "markdown",
   "metadata": {},
   "source": [
    "Now, let's look at the SQL code used to create the tables."
   ]
  },
  {
   "cell_type": "markdown",
   "metadata": {},
   "source": [
    "> python manage.py sqlmigrate flights 0003"
   ]
  },
  {
   "cell_type": "markdown",
   "metadata": {},
   "source": [
    "![](wppj_399.png)"
   ]
  },
  {
   "cell_type": "markdown",
   "metadata": {},
   "source": [
    "Now, migrate this to database or actually create these tables."
   ]
  },
  {
   "cell_type": "markdown",
   "metadata": {},
   "source": [
    "> python manage.py migrate"
   ]
  },
  {
   "cell_type": "markdown",
   "metadata": {},
   "source": [
    "![](wppj_400.png)"
   ]
  },
  {
   "cell_type": "markdown",
   "metadata": {},
   "source": [
    "Now, let's go to shell."
   ]
  },
  {
   "cell_type": "markdown",
   "metadata": {},
   "source": [
    "![](wppj_401.png)"
   ]
  },
  {
   "cell_type": "markdown",
   "metadata": {},
   "source": [
    "![](wppj_402.png)"
   ]
  },
  {
   "cell_type": "markdown",
   "metadata": {},
   "source": [
    "Now, for the **flight** function inside **views.py**, we might also want to see the passengers. Make changes in the **context** variable."
   ]
  },
  {
   "cell_type": "markdown",
   "metadata": {},
   "source": [
    "![](wppj_403.png)"
   ]
  },
  {
   "cell_type": "markdown",
   "metadata": {},
   "source": [
    "Now, make some changes to **flight.html**."
   ]
  },
  {
   "cell_type": "markdown",
   "metadata": {},
   "source": [
    "![](wppj_404.png)"
   ]
  },
  {
   "cell_type": "markdown",
   "metadata": {},
   "source": [
    "Now, run the server."
   ]
  },
  {
   "cell_type": "markdown",
   "metadata": {},
   "source": [
    "![](wppj_405.png)"
   ]
  },
  {
   "cell_type": "markdown",
   "metadata": {},
   "source": [
    "In the **admin.py**, include **Passenger**."
   ]
  },
  {
   "cell_type": "markdown",
   "metadata": {},
   "source": [
    "![](wppj_406.png)"
   ]
  },
  {
   "cell_type": "markdown",
   "metadata": {},
   "source": [
    "### Form to register for a flight"
   ]
  },
  {
   "cell_type": "markdown",
   "metadata": {},
   "source": [
    "Inside **urls.py**, add the path to **book** function to be created inside **views.py**."
   ]
  },
  {
   "cell_type": "markdown",
   "metadata": {},
   "source": [
    "![](wppj_407.png)"
   ]
  },
  {
   "cell_type": "markdown",
   "metadata": {},
   "source": [
    "Now, at the top of the **views.py**, modify in the following way."
   ]
  },
  {
   "cell_type": "markdown",
   "metadata": {},
   "source": [
    "![](wppj_408.png)"
   ]
  },
  {
   "cell_type": "markdown",
   "metadata": {},
   "source": [
    "Now,, create the **book** function at the bottom of the **views.py** file."
   ]
  },
  {
   "cell_type": "markdown",
   "metadata": {},
   "source": [
    "![](wppj_409_2.png)"
   ]
  },
  {
   "cell_type": "markdown",
   "metadata": {},
   "source": [
    "Also, mmodify the definition  of **flight** function inside **views.py** so that it also returns non-passengers."
   ]
  },
  {
   "cell_type": "markdown",
   "metadata": {},
   "source": [
    "![](wppj_410_2.png)"
   ]
  },
  {
   "cell_type": "markdown",
   "metadata": {},
   "source": [
    "Now, create a form inside the **flight.html** file."
   ]
  },
  {
   "cell_type": "markdown",
   "metadata": {},
   "source": [
    "Take a note of the use of **{ csrf_token }** inside **form**"
   ]
  },
  {
   "cell_type": "markdown",
   "metadata": {},
   "source": [
    "![](wppj_411.png)"
   ]
  },
  {
   "cell_type": "markdown",
   "metadata": {},
   "source": [
    "Now, if we run the application, we will see something similar to this."
   ]
  },
  {
   "cell_type": "markdown",
   "metadata": {},
   "source": [
    "![](wppj_412.png)"
   ]
  },
  {
   "cell_type": "markdown",
   "metadata": {},
   "source": [
    "# Authentication application"
   ]
  },
  {
   "cell_type": "markdown",
   "metadata": {},
   "source": [
    "### Creating a new user"
   ]
  },
  {
   "cell_type": "markdown",
   "metadata": {},
   "source": [
    "Multiple ways to do this."
   ]
  },
  {
   "cell_type": "markdown",
   "metadata": {},
   "source": [
    "### Way 1"
   ]
  },
  {
   "cell_type": "markdown",
   "metadata": {},
   "source": [
    "Go to shell"
   ]
  },
  {
   "cell_type": "markdown",
   "metadata": {},
   "source": [
    "> python manage.py shell"
   ]
  },
  {
   "cell_type": "markdown",
   "metadata": {},
   "source": [
    "> from django.contrib.auth.models import User"
   ]
  },
  {
   "cell_type": "markdown",
   "metadata": {},
   "source": [
    "> user = User.objects.create_user(\"alice\", \"alice@something.com\", \"12345\")"
   ]
  },
  {
   "cell_type": "markdown",
   "metadata": {},
   "source": [
    "> user.first_name = \"Alice\""
   ]
  },
  {
   "cell_type": "markdown",
   "metadata": {},
   "source": [
    "> user.save()"
   ]
  },
  {
   "cell_type": "markdown",
   "metadata": {},
   "source": [
    "![](wppj_414.png)"
   ]
  },
  {
   "cell_type": "markdown",
   "metadata": {},
   "source": [
    "Now, log in using this credential or username and password."
   ]
  },
  {
   "cell_type": "markdown",
   "metadata": {},
   "source": [
    "> python manage.py runserver"
   ]
  },
  {
   "cell_type": "markdown",
   "metadata": {},
   "source": [
    "![](wppj_415.png)"
   ]
  },
  {
   "cell_type": "markdown",
   "metadata": {},
   "source": [
    "### Working with sqlite3"
   ]
  },
  {
   "cell_type": "markdown",
   "metadata": {},
   "source": [
    "![](wppj_416.png)"
   ]
  },
  {
   "cell_type": "markdown",
   "metadata": {},
   "source": [
    "### Change database"
   ]
  },
  {
   "cell_type": "markdown",
   "metadata": {},
   "source": [
    "![](wppj_417.png)"
   ]
  },
  {
   "cell_type": "markdown",
   "metadata": {},
   "source": [
    "### More on SQLITE3"
   ]
  },
  {
   "cell_type": "markdown",
   "metadata": {},
   "source": [
    "![](wppj_418.png)"
   ]
  },
  {
   "cell_type": "code",
   "execution_count": null,
   "metadata": {},
   "outputs": [],
   "source": []
  }
 ],
 "metadata": {
  "kernelspec": {
   "display_name": "Python 3 (ipykernel)",
   "language": "python",
   "name": "python3"
  },
  "language_info": {
   "codemirror_mode": {
    "name": "ipython",
    "version": 3
   },
   "file_extension": ".py",
   "mimetype": "text/x-python",
   "name": "python",
   "nbconvert_exporter": "python",
   "pygments_lexer": "ipython3",
   "version": "3.9.13"
  }
 },
 "nbformat": 4,
 "nbformat_minor": 4
}
